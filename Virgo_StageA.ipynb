{
 "cells": [
  {
   "cell_type": "code",
   "execution_count": 77,
   "metadata": {},
   "outputs": [],
   "source": [
    "#Imports\n",
    "from IPython.core.interactiveshell import InteractiveShell\n",
    "InteractiveShell.ast_node_interactivity = \"all\"\n",
    "import numpy as np\n",
    "import pandas as pd"
   ]
  },
  {
   "cell_type": "code",
   "execution_count": 78,
   "metadata": {},
   "outputs": [
    {
     "data": {
      "text/html": [
       "<div>\n",
       "<style scoped>\n",
       "    .dataframe tbody tr th:only-of-type {\n",
       "        vertical-align: middle;\n",
       "    }\n",
       "\n",
       "    .dataframe tbody tr th {\n",
       "        vertical-align: top;\n",
       "    }\n",
       "\n",
       "    .dataframe thead th {\n",
       "        text-align: right;\n",
       "    }\n",
       "</style>\n",
       "<table border=\"1\" class=\"dataframe\">\n",
       "  <thead>\n",
       "    <tr style=\"text-align: right;\">\n",
       "      <th></th>\n",
       "      <th>record_id</th>\n",
       "      <th>utility_id_ferc1</th>\n",
       "      <th>report_year</th>\n",
       "      <th>plant_name_ferc1</th>\n",
       "      <th>fuel_type_code_pudl</th>\n",
       "      <th>fuel_unit</th>\n",
       "      <th>fuel_qty_burned</th>\n",
       "      <th>fuel_mmbtu_per_unit</th>\n",
       "      <th>fuel_cost_per_unit_burned</th>\n",
       "      <th>fuel_cost_per_unit_delivered</th>\n",
       "      <th>fuel_cost_per_mmbtu</th>\n",
       "    </tr>\n",
       "  </thead>\n",
       "  <tbody>\n",
       "    <tr>\n",
       "      <th>3070</th>\n",
       "      <td>f1_fuel_1996_12_8_0_8</td>\n",
       "      <td>8</td>\n",
       "      <td>1996</td>\n",
       "      <td>harvey couch</td>\n",
       "      <td>gas</td>\n",
       "      <td>mcf</td>\n",
       "      <td>3576760.0</td>\n",
       "      <td>1.150820</td>\n",
       "      <td>2.376</td>\n",
       "      <td>2.376</td>\n",
       "      <td>2.064</td>\n",
       "    </tr>\n",
       "    <tr>\n",
       "      <th>1796</th>\n",
       "      <td>f1_fuel_1995_12_147_0_7</td>\n",
       "      <td>147</td>\n",
       "      <td>1995</td>\n",
       "      <td>reeves</td>\n",
       "      <td>gas</td>\n",
       "      <td>mcf</td>\n",
       "      <td>258967.0</td>\n",
       "      <td>1.028479</td>\n",
       "      <td>2.470</td>\n",
       "      <td>2.470</td>\n",
       "      <td>2.403</td>\n",
       "    </tr>\n",
       "    <tr>\n",
       "      <th>22281</th>\n",
       "      <td>f1_fuel_2012_12_55_2_7</td>\n",
       "      <td>55</td>\n",
       "      <td>2012</td>\n",
       "      <td>higgins</td>\n",
       "      <td>oil</td>\n",
       "      <td>bbl</td>\n",
       "      <td>481.0</td>\n",
       "      <td>5.812890</td>\n",
       "      <td>98.689</td>\n",
       "      <td>0.000</td>\n",
       "      <td>16.978</td>\n",
       "    </tr>\n",
       "    <tr>\n",
       "      <th>7564</th>\n",
       "      <td>f1_fuel_2000_12_120_0_11</td>\n",
       "      <td>120</td>\n",
       "      <td>2000</td>\n",
       "      <td>high bridge</td>\n",
       "      <td>gas</td>\n",
       "      <td>mcf</td>\n",
       "      <td>346894.0</td>\n",
       "      <td>1.019000</td>\n",
       "      <td>4.610</td>\n",
       "      <td>4.530</td>\n",
       "      <td>4.040</td>\n",
       "    </tr>\n",
       "    <tr>\n",
       "      <th>24932</th>\n",
       "      <td>f1_fuel_2014_12_74_0_7</td>\n",
       "      <td>74</td>\n",
       "      <td>2014</td>\n",
       "      <td>eagle valley</td>\n",
       "      <td>coal</td>\n",
       "      <td>ton</td>\n",
       "      <td>385192.0</td>\n",
       "      <td>22.560000</td>\n",
       "      <td>64.400</td>\n",
       "      <td>64.774</td>\n",
       "      <td>2.839</td>\n",
       "    </tr>\n",
       "  </tbody>\n",
       "</table>\n",
       "</div>"
      ],
      "text/plain": [
       "                      record_id  utility_id_ferc1  report_year  \\\n",
       "3070      f1_fuel_1996_12_8_0_8                 8         1996   \n",
       "1796    f1_fuel_1995_12_147_0_7               147         1995   \n",
       "22281    f1_fuel_2012_12_55_2_7                55         2012   \n",
       "7564   f1_fuel_2000_12_120_0_11               120         2000   \n",
       "24932    f1_fuel_2014_12_74_0_7                74         2014   \n",
       "\n",
       "      plant_name_ferc1 fuel_type_code_pudl fuel_unit  fuel_qty_burned  \\\n",
       "3070      harvey couch                 gas       mcf        3576760.0   \n",
       "1796            reeves                 gas       mcf         258967.0   \n",
       "22281          higgins                 oil       bbl            481.0   \n",
       "7564       high bridge                 gas       mcf         346894.0   \n",
       "24932     eagle valley                coal       ton         385192.0   \n",
       "\n",
       "       fuel_mmbtu_per_unit  fuel_cost_per_unit_burned  \\\n",
       "3070              1.150820                      2.376   \n",
       "1796              1.028479                      2.470   \n",
       "22281             5.812890                     98.689   \n",
       "7564              1.019000                      4.610   \n",
       "24932            22.560000                     64.400   \n",
       "\n",
       "       fuel_cost_per_unit_delivered  fuel_cost_per_mmbtu  \n",
       "3070                          2.376                2.064  \n",
       "1796                          2.470                2.403  \n",
       "22281                         0.000               16.978  \n",
       "7564                          4.530                4.040  \n",
       "24932                        64.774                2.839  "
      ]
     },
     "execution_count": 78,
     "metadata": {},
     "output_type": "execute_result"
    }
   ],
   "source": [
    "#Load the dataset\n",
    "data = pd.read_csv('https://raw.githubusercontent.com/WalePhenomenon/climate_change/master/fuel_ferc1.csv', error_bad_lines=False)\n",
    "data.sample(5)"
   ]
  },
  {
   "cell_type": "markdown",
   "metadata": {},
   "source": [
    "### Question 3\n",
    "\n",
    "Which of the following fuel type code has the lowest average fuel cost per unit burned?\n",
    "\n"
   ]
  },
  {
   "cell_type": "code",
   "execution_count": 16,
   "metadata": {},
   "outputs": [
    {
     "data": {
      "text/plain": [
       "fuel_type_code_pudl\n",
       "coal         67.421830\n",
       "gas          13.659397\n",
       "nuclear    4955.157002\n",
       "oil         168.877086\n",
       "other        18.253856\n",
       "waste        19.518122\n",
       "Name: fuel_cost_per_unit_burned, dtype: float64"
      ]
     },
     "execution_count": 16,
     "metadata": {},
     "output_type": "execute_result"
    }
   ],
   "source": [
    "\n",
    "lowest_avg = data.groupby('fuel_type_code_pudl')['fuel_cost_per_unit_burned'].mean()\n",
    "lowest_avg\n"
   ]
  },
  {
   "cell_type": "markdown",
   "metadata": {},
   "source": [
    "### Question 4\n",
    "\n",
    "What is the standard deviation and 75th percentile of the measure of energy per unit (Fuel_mmbtu_per_unit) in two decimal places?\n",
    "\n"
   ]
  },
  {
   "cell_type": "code",
   "execution_count": 18,
   "metadata": {},
   "outputs": [
    {
     "data": {
      "text/plain": [
       "count    29523.00\n",
       "mean         8.49\n",
       "std         10.60\n",
       "min          0.00\n",
       "25%          1.02\n",
       "50%          5.76\n",
       "75%         17.01\n",
       "max        341.26\n",
       "Name: fuel_mmbtu_per_unit, dtype: float64"
      ]
     },
     "execution_count": 18,
     "metadata": {},
     "output_type": "execute_result"
    }
   ],
   "source": [
    "data['fuel_mmbtu_per_unit'].describe().round(2)"
   ]
  },
  {
   "cell_type": "markdown",
   "metadata": {},
   "source": [
    "### Question 5\n",
    "\n",
    "What is the skewness and kurtosis for the fuel quantity burned in two decimal places?"
   ]
  },
  {
   "cell_type": "code",
   "execution_count": 23,
   "metadata": {},
   "outputs": [
    {
     "name": "stdout",
     "output_type": "stream",
     "text": [
      "The skewness is 15.85 and the kurtosis is 651.37.\n"
     ]
    }
   ],
   "source": [
    "skewness = data['fuel_qty_burned'].skew().round(2)\n",
    "kurtosis = data['fuel_qty_burned'].kurtosis().round(2)\n",
    "\n",
    "print(f'The skewness is {skewness} and the kurtosis is {kurtosis}.')"
   ]
  },
  {
   "cell_type": "markdown",
   "metadata": {},
   "source": [
    "### Question 6\n",
    "\n",
    "Which feature has missing values and what is the total number of missing value and percentage of the missing rows as a factor of the total number of rows in three decimal places? "
   ]
  },
  {
   "cell_type": "code",
   "execution_count": 48,
   "metadata": {},
   "outputs": [
    {
     "data": {
      "text/plain": [
       "record_id                         0\n",
       "utility_id_ferc1                  0\n",
       "report_year                       0\n",
       "plant_name_ferc1                  0\n",
       "fuel_type_code_pudl               0\n",
       "fuel_unit                       180\n",
       "fuel_qty_burned                   0\n",
       "fuel_mmbtu_per_unit               0\n",
       "fuel_cost_per_unit_burned         0\n",
       "fuel_cost_per_unit_delivered      0\n",
       "fuel_cost_per_mmbtu               0\n",
       "dtype: int64"
      ]
     },
     "execution_count": 48,
     "metadata": {},
     "output_type": "execute_result"
    },
    {
     "name": "stdout",
     "output_type": "stream",
     "text": [
      "Percentage of missing rows:  0.610%\n"
     ]
    }
   ],
   "source": [
    "missing_vals = data.isnull().sum()\n",
    "missing_vals\n",
    "percent_missing = (180*100)/len(data)\n",
    "print(f'Percentage of missing rows: {percent_missing: .3f}%')\n"
   ]
  },
  {
   "cell_type": "markdown",
   "metadata": {},
   "source": [
    "### Question 8\n",
    "\n",
    "Which of the features has the second and third lowest correlation with the Fuel Cost Per Unit Burned?"
   ]
  },
  {
   "cell_type": "code",
   "execution_count": 72,
   "metadata": {},
   "outputs": [
    {
     "data": {
      "text/plain": [
       "utility_id_ferc1               -0.038\n",
       "report_year                     0.014\n",
       "fuel_qty_burned                -0.019\n",
       "fuel_mmbtu_per_unit            -0.010\n",
       "fuel_cost_per_unit_burned       1.000\n",
       "fuel_cost_per_unit_delivered    0.011\n",
       "fuel_cost_per_mmbtu            -0.000\n",
       "Name: fuel_cost_per_unit_burned, dtype: float64"
      ]
     },
     "execution_count": 72,
     "metadata": {},
     "output_type": "execute_result"
    }
   ],
   "source": [
    "\n",
    "data.corr()['fuel_cost_per_unit_burned'].round(3)"
   ]
  },
  {
   "cell_type": "markdown",
   "metadata": {},
   "source": [
    "### Question 9\n",
    "\n",
    "For the fuel type coal, what is the percentage change in the fuel cost per unit burned in 1998 compared to 1994?"
   ]
  },
  {
   "cell_type": "code",
   "execution_count": 89,
   "metadata": {},
   "outputs": [
    {
     "data": {
      "text/plain": [
       "fuel_cost_per_unit_burned   -21.0\n",
       "dtype: float64"
      ]
     },
     "execution_count": 89,
     "metadata": {},
     "output_type": "execute_result"
    }
   ],
   "source": [
    "coal_94 = data.loc[(data.fuel_type_code_pudl=='coal') & (data.report_year==1994),['fuel_cost_per_unit_burned']]\n",
    "coal_98 = data.loc[(data.fuel_type_code_pudl=='coal') & (data.report_year==1998),['fuel_cost_per_unit_burned']]\n",
    "\n",
    "percent_change = ( (coal_98.sum() - coal_94.sum())/abs(coal_94.sum()) ) * 100\n",
    "percent_change.round()\n"
   ]
  },
  {
   "cell_type": "markdown",
   "metadata": {},
   "source": [
    "### Question 10\n",
    "\n",
    "Which year has the highest average fuel cost per unit delivered?"
   ]
  },
  {
   "cell_type": "code",
   "execution_count": 95,
   "metadata": {},
   "outputs": [
    {
     "data": {
      "text/plain": [
       "report_year\n",
       "1994       63.636060\n",
       "1995       32.735269\n",
       "1996     9196.705948\n",
       "1997    11140.197239\n",
       "1998      287.154420\n",
       "1999       25.551627\n",
       "2000      985.362877\n",
       "2001       60.050396\n",
       "2002       47.594361\n",
       "2003       55.663493\n",
       "2004      139.524275\n",
       "2005       41.438184\n",
       "2006       38.657484\n",
       "2007       43.325023\n",
       "2008       58.588197\n",
       "2009      652.694163\n",
       "2010       91.862105\n",
       "2011       59.774667\n",
       "2012       60.994502\n",
       "2013      172.307591\n",
       "2014      192.737183\n",
       "2015      326.535511\n",
       "2016      103.901761\n",
       "2017       46.196861\n",
       "2018      499.269966\n",
       "Name: fuel_cost_per_unit_delivered, dtype: float64"
      ]
     },
     "execution_count": 95,
     "metadata": {},
     "output_type": "execute_result"
    }
   ],
   "source": [
    "data.groupby('report_year')['fuel_cost_per_unit_delivered'].mean()"
   ]
  },
  {
   "cell_type": "code",
   "execution_count": null,
   "metadata": {},
   "outputs": [],
   "source": []
  }
 ],
 "metadata": {
  "kernelspec": {
   "display_name": "Python 3",
   "language": "python",
   "name": "python3"
  },
  "language_info": {
   "codemirror_mode": {
    "name": "ipython",
    "version": 3
   },
   "file_extension": ".py",
   "mimetype": "text/x-python",
   "name": "python",
   "nbconvert_exporter": "python",
   "pygments_lexer": "ipython3",
   "version": "3.7.3"
  }
 },
 "nbformat": 4,
 "nbformat_minor": 4
}
